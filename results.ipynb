{
 "cells": [
  {
   "cell_type": "code",
   "execution_count": 14,
   "metadata": {},
   "outputs": [],
   "source": [
    "import json\n",
    "\n",
    "def load_json(file_path):\n",
    "    try:\n",
    "        with open(file_path, 'r') as file:\n",
    "            return json.load(file)\n",
    "    except json.JSONDecodeError as e:\n",
    "        print(f\"Error loading as regular JSON: {e}\")\n",
    "        return None\n",
    "    \n",
    "def print_stats(data):\n",
    "    total_score = 0\n",
    "    count = 0\n",
    "    jailbreak = 0\n",
    "    absolute_jailbreak = 0\n",
    "    behaviors = 0\n",
    "\n",
    "    for item in data['data']:\n",
    "        behaviors += 1\n",
    "        success_for_this_behavior = False\n",
    "        all_attempts_successful = True\n",
    "        \n",
    "        for attempt in item['attempts']:\n",
    "            total_score += attempt['final_score']\n",
    "            count += 1\n",
    "            \n",
    "            if attempt['final_score'] == 5:\n",
    "                success_for_this_behavior = True\n",
    "            else:\n",
    "                all_attempts_successful = False\n",
    "        \n",
    "        if success_for_this_behavior:\n",
    "            jailbreak += 1\n",
    "            \n",
    "        if all_attempts_successful and len(item['attempts']) > 0:\n",
    "            absolute_jailbreak += 1\n",
    "\n",
    "    print(f\"\\nTotal final_score: {total_score}\")\n",
    "    print(f\"Number of scores: {count}\")\n",
    "    print(f\"Average score: {total_score/count if count > 0 else 0}\")\n",
    "    print(f\"Number of successful behaviors (at least one 5): {jailbreak}\")\n",
    "    print(f\"Number of behaviors with ALL attempts scoring 5: {absolute_jailbreak}\")\n",
    "    print(f\"Number of behaviors: {behaviors}\")\n",
    "    print(f\"ASR: {(jailbreak/behaviors)*100 if behaviors > 0 else 0}%\")\n",
    "    print(f\"Absolute ASR: {(absolute_jailbreak/behaviors)*100 if behaviors > 0 else 0}%\")"
   ]
  },
  {
   "cell_type": "code",
   "execution_count": 15,
   "metadata": {},
   "outputs": [
    {
     "name": "stdout",
     "output_type": "stream",
     "text": [
      "\n",
      "Total final_score: 1011\n",
      "Number of scores: 452\n",
      "Average score: 2.2367256637168142\n",
      "Number of successful behaviors (at least one 5): 24\n",
      "Number of behaviors with ALL attempts scoring 5: 6\n",
      "Number of behaviors: 159\n",
      "ASR: 15.09433962264151%\n",
      "Absolute ASR: 3.7735849056603774%\n"
     ]
    }
   ],
   "source": [
    "data = load_json(\"/home/sheriff/research/ActorAttack/attack_result/actor-attack-lora-8k_159_2025-03-18_15:13:29.json\")\n",
    "print_stats(data)"
   ]
  },
  {
   "cell_type": "code",
   "execution_count": null,
   "metadata": {},
   "outputs": [],
   "source": []
  }
 ],
 "metadata": {
  "kernelspec": {
   "display_name": "base",
   "language": "python",
   "name": "python3"
  },
  "language_info": {
   "codemirror_mode": {
    "name": "ipython",
    "version": 3
   },
   "file_extension": ".py",
   "mimetype": "text/x-python",
   "name": "python",
   "nbconvert_exporter": "python",
   "pygments_lexer": "ipython3",
   "version": "3.12.2"
  }
 },
 "nbformat": 4,
 "nbformat_minor": 2
}
